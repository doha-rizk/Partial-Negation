{
  "nbformat": 4,
  "nbformat_minor": 0,
  "metadata": {
    "colab": {
      "name": "Partial Negation.ipynb",
      "provenance": [],
      "collapsed_sections": []
    },
    "kernelspec": {
      "name": "python3",
      "display_name": "Python 3"
    }
  },
  "cells": [
    {
      "cell_type": "markdown",
      "metadata": {
        "id": "dwNVNvXKVBXM",
        "colab_type": "text"
      },
      "source": [
        "# **Partial Negation** \n",
        "\n",
        "------ \n",
        "<br>\n",
        "\n",
        "#### A short introduction to the concept of partial negation by [Doha rizk](https://www.linkedin.com/in/doha-rizk/)"
      ]
    },
    {
      "cell_type": "markdown",
      "metadata": {
        "id": "9GSm5Gl2VGHS",
        "colab_type": "text"
      },
      "source": [
        "### Environment setup"
      ]
    },
    {
      "cell_type": "code",
      "metadata": {
        "id": "gBGr9azhVKWd",
        "colab_type": "code",
        "outputId": "29a6ccf7-e7b8-45a7-caed-ebe70663b3ac",
        "colab": {
          "base_uri": "https://localhost:8080/",
          "height": 340
        }
      },
      "source": [
        "# Installing Qiskit framework\n",
        "!pip install qiskit --upgrade -q"
      ],
      "execution_count": 0,
      "outputs": [
        {
          "output_type": "stream",
          "text": [
            "\u001b[K     |████████████████████████████████| 2.9MB 3.4MB/s \n",
            "\u001b[K     |████████████████████████████████| 23.0MB 1.2MB/s \n",
            "\u001b[K     |████████████████████████████████| 143kB 55.8MB/s \n",
            "\u001b[K     |████████████████████████████████| 102kB 13.0MB/s \n",
            "\u001b[K     |████████████████████████████████| 1.8MB 21.4MB/s \n",
            "\u001b[K     |████████████████████████████████| 5.6MB 47.0MB/s \n",
            "\u001b[K     |████████████████████████████████| 51kB 6.4MB/s \n",
            "\u001b[K     |████████████████████████████████| 51kB 7.3MB/s \n",
            "\u001b[K     |████████████████████████████████| 153kB 62.2MB/s \n",
            "\u001b[K     |████████████████████████████████| 51kB 6.9MB/s \n",
            "\u001b[K     |████████████████████████████████| 71kB 9.3MB/s \n",
            "\u001b[K     |████████████████████████████████| 24.3MB 1.2MB/s \n",
            "\u001b[K     |████████████████████████████████| 573kB 57.0MB/s \n",
            "\u001b[K     |████████████████████████████████| 2.3MB 33.7MB/s \n",
            "\u001b[?25h  Building wheel for qiskit (setup.py) ... \u001b[?25l\u001b[?25hdone\n",
            "  Building wheel for marshmallow-polyfield (setup.py) ... \u001b[?25l\u001b[?25hdone\n",
            "  Building wheel for dlx (setup.py) ... \u001b[?25l\u001b[?25hdone\n",
            "  Building wheel for docplex (setup.py) ... \u001b[?25l\u001b[?25hdone\n",
            "  Building wheel for inflection (setup.py) ... \u001b[?25l\u001b[?25hdone\n"
          ],
          "name": "stdout"
        }
      ]
    },
    {
      "cell_type": "code",
      "metadata": {
        "id": "ZucKzaATVOHn",
        "colab_type": "code",
        "outputId": "3b69a0b8-53b1-4457-91a6-32a1243c1755",
        "colab": {
          "base_uri": "https://localhost:8080/",
          "height": 547
        }
      },
      "source": [
        "import qiskit.tools.jupyter\n",
        "%qiskit_version_table\n",
        "%qiskit_copyright"
      ],
      "execution_count": 0,
      "outputs": [
        {
          "output_type": "display_data",
          "data": {
            "text/html": [
              "<h3>Version Information</h3><table><tr><th>Qiskit Software</th><th>Version</th></tr><tr><td>Qiskit</td><td>None</td></tr><tr><td>Terra</td><td>0.12.0</td></tr><tr><td>Aer</td><td>0.4.1</td></tr><tr><td>Ignis</td><td>0.2.0</td></tr><tr><td>Aqua</td><td>0.6.5</td></tr><tr><td>IBM Q Provider</td><td>0.5.0</td></tr><tr><th>System information</th></tr><tr><td>Python</td><td>3.6.9 (default, Nov  7 2019, 10:44:02) \n",
              "[GCC 8.3.0]</td></tr><tr><td>OS</td><td>Linux</td></tr><tr><td>CPUs</td><td>1</td></tr><tr><td>Memory (Gb)</td><td>12.717426300048828</td></tr><tr><td colspan='2'>Tue Mar 24 11:38:03 2020 UTC</td></tr></table>"
            ],
            "text/plain": [
              "<IPython.core.display.HTML object>"
            ]
          },
          "metadata": {
            "tags": []
          }
        },
        {
          "output_type": "display_data",
          "data": {
            "text/html": [
              "<div style='width: 100%; background-color:#d5d9e0;padding-left: 10px; padding-bottom: 10px; padding-right: 10px; padding-top: 5px'><h3>This code is a part of Qiskit</h3><p>&copy; Copyright IBM 2017, 2020.</p><p>This code is licensed under the Apache License, Version 2.0. You may<br>obtain a copy of this license in the LICENSE.txt file in the root directory<br> of this source tree or at http://www.apache.org/licenses/LICENSE-2.0.<p>Any modifications or derivative works of this code must retain this<br>copyright notice, and modified files need to carry a notice indicating<br>that they have been altered from the originals.</p></div>"
            ],
            "text/plain": [
              "<IPython.core.display.HTML object>"
            ]
          },
          "metadata": {
            "tags": []
          }
        }
      ]
    },
    {
      "cell_type": "markdown",
      "metadata": {
        "id": "GHByear_VnIp",
        "colab_type": "text"
      },
      "source": [
        "### Theoretical analysis:"
      ]
    },
    {
      "cell_type": "markdown",
      "metadata": {
        "id": "BSCTjtIyVyij",
        "colab_type": "text"
      },
      "source": [
        "In quantum computing, gates are represented by a unitary matrix $U$, which transforms the state of a qubit to another. Some gates act on a single qubit such as the $PauliX$, $PauliY$ and $PauliZ$ gates which are rotations arround $x$, $y$ and $z$ axes with a certain angle recpectivally."
      ]
    },
    {
      "cell_type": "markdown",
      "metadata": {
        "id": "7ZzFDJ1mV7sI",
        "colab_type": "text"
      },
      "source": [
        "One of the gates that act on a single qubit is the $PauliX$ gate, which is equivelant to the classical NOT gate i.e. it inverts $\\left| 0\\right\\rangle$ to $\\left| 1\\right\\rangle$ and $\\left| 1\\right\\rangle$ to $\\left| 0\\right\\rangle$. The Unitary matrix of the $PauliX$ gate denoted as $\\sigma_x$ can be represented as follows:"
      ]
    },
    {
      "cell_type": "markdown",
      "metadata": {
        "id": "IIQBf4lpV_75",
        "colab_type": "text"
      },
      "source": [
        "$\\sigma_x = \\begin{bmatrix} 0 & 1 \\\\ 1 & 0\\end{bmatrix}.$ "
      ]
    },
    {
      "cell_type": "markdown",
      "metadata": {
        "id": "RrnXC4OTWDtd",
        "colab_type": "text"
      },
      "source": [
        "A universal set of single qubit gates $R_x(\\theta)$, $R_y(\\theta)$ and $R_z(\\theta)$ can be constructed by using infinite number of rotation angles arround $x$, $y$ and $z$ axes respectivally. Given that the Pauli gates are construted at a rotation angle $\\theta=\\pi$. "
      ]
    },
    {
      "cell_type": "markdown",
      "metadata": {
        "id": "iPGFg9_1WHNs",
        "colab_type": "text"
      },
      "source": [
        "The rotation matrix of the $PauliX$ gate with a rotation $\\theta$ arround $x$-axis is expressed as follows:"
      ]
    },
    {
      "cell_type": "markdown",
      "metadata": {
        "id": "URWftE9uWMaP",
        "colab_type": "text"
      },
      "source": [
        "$\tR_x(\\theta) =e^{-i \\frac{\\theta}{2}\\sigma_x} =cos(\\frac{\\theta}{2})I- i\\; sin(\\frac{\\theta}{2})\\sigma_x,$"
      ]
    },
    {
      "cell_type": "markdown",
      "metadata": {
        "id": "6P0WnxuXWQpc",
        "colab_type": "text"
      },
      "source": [
        "The $R_x(\\theta)$ rotation matrix can be implemented using rx(), such that it takes two parameters, the first is the rotation angle and the second is the index of the qubit the rx gate will be applied on as shown below,"
      ]
    },
    {
      "cell_type": "code",
      "metadata": {
        "id": "iCaAWZ41WT1R",
        "colab_type": "code",
        "outputId": "c66ce0b3-bbad-44b1-bd0f-e4ade07751ee",
        "colab": {
          "base_uri": "https://localhost:8080/",
          "height": 95
        }
      },
      "source": [
        "from qiskit import *\n",
        "from math import *\n",
        "q = QuantumCircuit(1)\n",
        "q.rx(pi,0) #rotation angle pi on qubit 0\n",
        "q.draw(output='mpl')"
      ],
      "execution_count": 0,
      "outputs": [
        {
          "output_type": "execute_result",
          "data": {
            "image/png": "[encoded data removed]",
            "text/plain": [
              "<Figure size 173.376x84.28 with 1 Axes>"
            ]
          },
          "metadata": {
            "tags": []
          },
          "execution_count": 5
        }
      ]
    },
    {
      "cell_type": "markdown",
      "metadata": {
        "id": "ZFZsO2UrWYTo",
        "colab_type": "text"
      },
      "source": [
        "Other gates are designed to act on 2-qubit gates, such that there is a control qubit and a target qubit. When the control qubit is in state $\\left| 1\\right\\rangle$, an arbitrary gate will be applied on the target qubit i.e. it could be $PauliX$, $PauliY$, $PauliZ$, $H$, and the rotation gates."
      ]
    },
    {
      "cell_type": "markdown",
      "metadata": {
        "id": "XqH-sk2iWeq6",
        "colab_type": "text"
      },
      "source": [
        "A controlled $R_x$ can be implemented using $CR_x$ gate. This gate takes three parameters, the first is the rotation angle, the second is the index of the control qubit and the third is the index of the target qubit."
      ]
    },
    {
      "cell_type": "code",
      "metadata": {
        "id": "ndnRs_JTWhui",
        "colab_type": "code",
        "outputId": "ad9d3b14-3017-4035-e53c-5808604288c8",
        "colab": {
          "base_uri": "https://localhost:8080/",
          "height": 140
        }
      },
      "source": [
        "from qiskit import *\n",
        "from math import *\n",
        "q = QuantumCircuit(2)\n",
        "q.x(0)#Applying an X-gate on qubit 0 to make it in state |1>, to enable the rx gate to be applied on qubit 1\n",
        "q.crx(pi,0,1) #rotation angle pi on qubit 1\n",
        "q.draw(output='mpl')"
      ],
      "execution_count": 0,
      "outputs": [
        {
          "output_type": "execute_result",
          "data": {
            "image/png": "[encoded data removed]",
            "text/plain": [
              "<Figure size 298.592x144.48 with 1 Axes>"
            ]
          },
          "metadata": {
            "tags": []
          },
          "execution_count": 6
        }
      ]
    },
    {
      "cell_type": "markdown",
      "metadata": {
        "id": "Mo8vhL31WqBv",
        "colab_type": "text"
      },
      "source": [
        "For a quantum register of $n$ qubits, a demonstration for a partial negation will be presented, such that an $R_x$ gate is applied conditionally on a $q_{n-1}$ qubit defined as the target qubit depending on the states of the control qubits $q_0,q_1,q_2,...,q_{n-2}$ i.e. if the state of a contol qubit $q_i$ is $\\left| 1\\right\\rangle$, then $R_x$ will be applied on the target qubit $q_{n-1}$. The rotation angle of the $R_x$ will be $\\theta=\\pi/n$ where a full negation is applied if all controls where in state $\\left| 1\\right\\rangle$, otherwise only a partial negation will be applied depending on the number of control qubits in state $\\left| 1\\right\\rangle$ and the target qubit will be in a superposition, such that the result of measuring the target qubit could be $\\left| 0\\right\\rangle$ or $\\left| 1\\right\\rangle$ depending on the probability accompained by the states in the superposition. As the number of control qubits in state $\\left| 1\\right\\rangle$ increase, the probability of negating the target qubit will increase and vice versa.\n"
      ]
    },
    {
      "cell_type": "markdown",
      "metadata": {
        "id": "XiJmGoFpWx_o",
        "colab_type": "text"
      },
      "source": [
        "Applying the controlled $t^{th}$ root of $PauliX$ rotation gate for $d$-times where $d$ is the number of control qubits in state $\\left| 1\\right\\rangle$, the probability of finding $q_{n-1}$ when measured in state $\\left| 0\\right\\rangle$ or $\\left| 1\\right\\rangle$ can be calculated as mentioned in this [paper](https://www.sciencedirect.com/science/article/abs/pii/S0003491617300817?via%3Dihub) as follows, <br><br> $Pr(\\left|q_{n-1}\\right\\rangle=\\left| 0\\right\\rangle)=cos(\\frac{d\\pi}{2t})^2$,<br>$Pr(\\left|q_{n-1}\\right\\rangle=\\left| 1\\right\\rangle)=sin(\\frac{d\\pi}{2t})^2$."
      ]
    },
    {
      "cell_type": "markdown",
      "metadata": {
        "id": "DroBMpfFW22H",
        "colab_type": "text"
      },
      "source": [
        "In the following example, a partial negation will be demonstrated on a 5-qubit register using a qasm simulator, such that 4 qubits are the controls i.e $t=4$ and 1 qubit initialized to the state $\\left| 0\\right\\rangle$ is the target. The example below will show five cases, where at each case the number of control qubits in state $\\left| 1\\right\\rangle$ will change and a measurement will be applied on the target qubit for 1024 times which is the dafault number of shots, then plot a histogram representing the probabilities of the outputs."
      ]
    },
    {
      "cell_type": "markdown",
      "metadata": {
        "id": "DdTdQV3-W875",
        "colab_type": "text"
      },
      "source": [
        "### Case 1: All control qubits are in state $\\left| 0\\right\\rangle$"
      ]
    },
    {
      "cell_type": "code",
      "metadata": {
        "id": "3RJCIDcbXAkA",
        "colab_type": "code",
        "outputId": "1975912d-c3dc-417b-cc6b-b26fa0bc7996",
        "colab": {
          "base_uri": "https://localhost:8080/",
          "height": 322
        }
      },
      "source": [
        "qc1=QuantumCircuit(5,1)\n",
        "qc1.crx(pi/3,0,4)\n",
        "qc1.crx(pi/3,1,4)\n",
        "qc1.crx(pi/3,2,4)\n",
        "qc1.crx(pi/3,3,4)\n",
        "qc1.measure(4,0)\n",
        "qc1.draw(output='mpl')"
      ],
      "execution_count": 0,
      "outputs": [
        {
          "output_type": "execute_result",
          "data": {
            "image/png": "[encoded data removed]",
            "text/plain": [
              "<Figure size 479.192x385.28 with 1 Axes>"
            ]
          },
          "metadata": {
            "tags": []
          },
          "execution_count": 7
        }
      ]
    },
    {
      "cell_type": "code",
      "metadata": {
        "id": "dJA5_nLmXD_d",
        "colab_type": "code",
        "outputId": "dadce6f5-841d-4c79-f66a-9f15cf98814e",
        "colab": {
          "base_uri": "https://localhost:8080/",
          "height": 323
        }
      },
      "source": [
        "from qiskit.visualization import plot_histogram\n",
        "\n",
        "simulator = Aer.get_backend('qasm_simulator')\n",
        "plot_histogram(execute(qc1,simulator,shots=1024).result().get_counts())"
      ],
      "execution_count": 0,
      "outputs": [
        {
          "output_type": "execute_result",
          "data": {
            "image/png": "[encoded data removed]",
            "text/plain": [
              "<Figure size 504x360 with 1 Axes>"
            ]
          },
          "metadata": {
            "tags": []
          },
          "execution_count": 8
        }
      ]
    },
    {
      "cell_type": "markdown",
      "metadata": {
        "id": "yZ8HhlkKXNrv",
        "colab_type": "text"
      },
      "source": [
        "In this case, since all $4$ qubits are in state $\\left| 0 \\right\\rangle$ i.e. $d=0$, $R_x$ is not applied on the target qubit, and hence the state of  $q_4$ will not change, and the output of measuring the qubit will always be $\\left|   0 \\right\\rangle$ with certainty."
      ]
    },
    {
      "cell_type": "markdown",
      "metadata": {
        "id": "ObjZJ4pGXiOv",
        "colab_type": "text"
      },
      "source": [
        "### Case 2: One control qubit in state $\\left| 1\\right\\rangle$ and the others in state $\\left| 0\\right\\rangle$"
      ]
    },
    {
      "cell_type": "code",
      "metadata": {
        "id": "GW5xA5A1Xl6G",
        "colab_type": "code",
        "outputId": "6d891e4d-ec29-4309-ca74-eb9e04aa0251",
        "colab": {
          "base_uri": "https://localhost:8080/",
          "height": 322
        }
      },
      "source": [
        "qc1=QuantumCircuit(5,1)\n",
        "qc1.x(0)\n",
        "qc1.crx(pi/4,0,4)\n",
        "qc1.crx(pi/4,1,4)\n",
        "qc1.crx(pi/4,2,4)\n",
        "qc1.crx(pi/4,3,4)\n",
        "qc1.measure(4,0)\n",
        "qc1.draw(output='mpl')"
      ],
      "execution_count": 0,
      "outputs": [
        {
          "output_type": "execute_result",
          "data": {
            "image/png": "[encoded data removed]",
            "text/plain": [
              "<Figure size 539.392x385.28 with 1 Axes>"
            ]
          },
          "metadata": {
            "tags": []
          },
          "execution_count": 9
        }
      ]
    },
    {
      "cell_type": "code",
      "metadata": {
        "id": "pztMjKuQXqYD",
        "colab_type": "code",
        "outputId": "c0b9e2c1-eab6-4062-aa20-aec64d936b09",
        "colab": {
          "base_uri": "https://localhost:8080/",
          "height": 324
        }
      },
      "source": [
        "simulator = Aer.get_backend('qasm_simulator')\n",
        "plot_histogram(execute(qc1,simulator,shots=1024).result().get_counts())"
      ],
      "execution_count": 0,
      "outputs": [
        {
          "output_type": "execute_result",
          "data": {
            "image/png": "[encoded data removed]",
            "text/plain": [
              "<Figure size 504x360 with 1 Axes>"
            ]
          },
          "metadata": {
            "tags": []
          },
          "execution_count": 10
        }
      ]
    },
    {
      "cell_type": "markdown",
      "metadata": {
        "id": "DXUv-VxBXx8y",
        "colab_type": "text"
      },
      "source": [
        "In this case, since one of the controls is in state $\\left| 1\\right\\rangle$ i.e. $d=1$, $R_x$ will be applied only once for each iteration, and hence the target qubit will be in superposition, with a probability $\\approx$ 85% to be in state $\\left| 0\\right\\rangle$ and $\\approx$ 15% in state $\\left| 1\\right\\rangle$."
      ]
    },
    {
      "cell_type": "markdown",
      "metadata": {
        "id": "k_FYQ8c4YCZ8",
        "colab_type": "text"
      },
      "source": [
        "### Case 3: Two control qubits in state $\\left| 1\\right\\rangle$ and two in state $\\left| 0\\right\\rangle$"
      ]
    },
    {
      "cell_type": "code",
      "metadata": {
        "id": "ZVIUig0dYD5I",
        "colab_type": "code",
        "outputId": "f5d1e6d8-74ce-4d86-b1be-812e607f95c9",
        "colab": {
          "base_uri": "https://localhost:8080/",
          "height": 322
        }
      },
      "source": [
        "qc1=QuantumCircuit(5,1)\n",
        "qc1.x(0)\n",
        "qc1.x(1)\n",
        "qc1.crx(pi/4,0,4)\n",
        "qc1.crx(pi/4,1,4)\n",
        "qc1.crx(pi/4,2,4)\n",
        "qc1.crx(pi/4,3,4)\n",
        "qc1.measure(4,0)\n",
        "qc1.draw(output='mpl')"
      ],
      "execution_count": 0,
      "outputs": [
        {
          "output_type": "execute_result",
          "data": {
            "image/png": "[encoded data removed]",
            "text/plain": [
              "<Figure size 539.392x385.28 with 1 Axes>"
            ]
          },
          "metadata": {
            "tags": []
          },
          "execution_count": 11
        }
      ]
    },
    {
      "cell_type": "code",
      "metadata": {
        "id": "VHentIOEYHWw",
        "colab_type": "code",
        "outputId": "6e47bbc2-4ef6-4f38-d519-1b0e50de8b57",
        "colab": {
          "base_uri": "https://localhost:8080/",
          "height": 323
        }
      },
      "source": [
        "plot_histogram(execute(qc1,simulator,shots=1024).result().get_counts())"
      ],
      "execution_count": 0,
      "outputs": [
        {
          "output_type": "execute_result",
          "data": {
            "image/png": "[encoded data removed]",
            "text/plain": [
              "<Figure size 504x360 with 1 Axes>"
            ]
          },
          "metadata": {
            "tags": []
          },
          "execution_count": 12
        }
      ]
    },
    {
      "cell_type": "markdown",
      "metadata": {
        "id": "sfJGV-gKYQiS",
        "colab_type": "text"
      },
      "source": [
        "In this case, since two controls are in state $\\left| 1\\right\\rangle$ and the other two in state $\\left| 0\\right\\rangle$ i.e. $d=2$, then $R_x$ is applied twice on the target qubit per iteration, and hence the target qubit will be in a superposition with a probability 50% to be in state $\\left| 0\\right\\rangle$ and 50% in state $\\left| 1\\right\\rangle$."
      ]
    },
    {
      "cell_type": "markdown",
      "metadata": {
        "id": "jctiYD3bYgz3",
        "colab_type": "text"
      },
      "source": [
        "### case 4: Three controls in state |1> and one control in state |0>"
      ]
    },
    {
      "cell_type": "code",
      "metadata": {
        "id": "RzeOnuJTYnAT",
        "colab_type": "code",
        "outputId": "30922bee-b0e1-4dbe-ce71-f257e4945066",
        "colab": {
          "base_uri": "https://localhost:8080/",
          "height": 322
        }
      },
      "source": [
        "qc1=QuantumCircuit(5,1)\n",
        "qc1.x(0)\n",
        "qc1.x(1)\n",
        "qc1.x(2)\n",
        "qc1.crx(pi/4,0,4)\n",
        "qc1.crx(pi/4,1,4)\n",
        "qc1.crx(pi/4,2,4)\n",
        "qc1.crx(pi/4,3,4)\n",
        "qc1.measure(4,0)\n",
        "qc1.draw(output='mpl')"
      ],
      "execution_count": 0,
      "outputs": [
        {
          "output_type": "execute_result",
          "data": {
            "image/png": "[encoded data removed]",
            "text/plain": [
              "<Figure size 539.392x385.28 with 1 Axes>"
            ]
          },
          "metadata": {
            "tags": []
          },
          "execution_count": 13
        }
      ]
    },
    {
      "cell_type": "code",
      "metadata": {
        "id": "z1dz7hivYrYh",
        "colab_type": "code",
        "outputId": "224d2337-5f84-45c8-eae7-f204fbd48885",
        "colab": {
          "base_uri": "https://localhost:8080/",
          "height": 323
        }
      },
      "source": [
        "plot_histogram(execute(qc1,simulator,shots=1024).result().get_counts())"
      ],
      "execution_count": 0,
      "outputs": [
        {
          "output_type": "execute_result",
          "data": {
            "image/png": "[encoded data removed]",
            "text/plain": [
              "<Figure size 504x360 with 1 Axes>"
            ]
          },
          "metadata": {
            "tags": []
          },
          "execution_count": 14
        }
      ]
    },
    {
      "cell_type": "markdown",
      "metadata": {
        "id": "RJjPWU4WYyrQ",
        "colab_type": "text"
      },
      "source": [
        "In this case since three controls are in state $\\left| 1\\right\\rangle$ i.e. $d=3$, then rx will be applied three times in each iteration, and hence the target qubit will be in superposition, with a probability 85% to be in state $\\left| 1\\right\\rangle$ and $\\approx$ 15% in state $\\left| 0\\right\\rangle$, since the number of times rx is applied to the target qubit is greater than the number of times it is not applied."
      ]
    },
    {
      "cell_type": "markdown",
      "metadata": {
        "id": "D11MmhHfY_Rh",
        "colab_type": "text"
      },
      "source": [
        "### Case 5: All control qubits in state $\\left| 1\\right\\rangle$"
      ]
    },
    {
      "cell_type": "code",
      "metadata": {
        "id": "03wHHiJpZF68",
        "colab_type": "code",
        "outputId": "bfabefa3-7e32-4638-b9c2-93a91dc67d43",
        "colab": {
          "base_uri": "https://localhost:8080/",
          "height": 322
        }
      },
      "source": [
        "qc1=QuantumCircuit(5,1)\n",
        "qc1.x(0)\n",
        "qc1.x(1)\n",
        "qc1.x(2)\n",
        "qc1.x(3)\n",
        "qc1.crx(pi/4,0,4)\n",
        "qc1.crx(pi/4,1,4)\n",
        "qc1.crx(pi/4,2,4)\n",
        "qc1.crx(pi/4,3,4)\n",
        "qc1.measure(4,0)\n",
        "qc1.draw(output='mpl')"
      ],
      "execution_count": 0,
      "outputs": [
        {
          "output_type": "execute_result",
          "data": {
            "image/png": "[encoded data removed]",
            "text/plain": [
              "<Figure size 539.392x385.28 with 1 Axes>"
            ]
          },
          "metadata": {
            "tags": []
          },
          "execution_count": 15
        }
      ]
    },
    {
      "cell_type": "code",
      "metadata": {
        "id": "ud-9Z7MTZH3o",
        "colab_type": "code",
        "outputId": "1417b499-98fa-4bb2-f0ca-2a9b8108331d",
        "colab": {
          "base_uri": "https://localhost:8080/",
          "height": 323
        }
      },
      "source": [
        "plot_histogram(execute(qc1,simulator,shots=1024).result().get_counts())"
      ],
      "execution_count": 0,
      "outputs": [
        {
          "output_type": "execute_result",
          "data": {
            "image/png": "[encoded data removed]",
            "text/plain": [
              "<Figure size 504x360 with 1 Axes>"
            ]
          },
          "metadata": {
            "tags": []
          },
          "execution_count": 16
        }
      ]
    },
    {
      "cell_type": "markdown",
      "metadata": {
        "id": "CFuZaVrKZM-I",
        "colab_type": "text"
      },
      "source": [
        "In this case, since all $4$ qubits are in state $\\left| 1\\right\\rangle$ i.e. $d=4$, then $R_x$ is applied on the target qubit 4-times which is equal to the number of contol qubits, and hence a full negation will be applied on the target qubit leading $q_4$ to be in state $\\left| 1\\right\\rangle$ with certainty."
      ]
    }
  ]
}